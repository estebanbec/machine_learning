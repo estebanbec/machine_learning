{
  "nbformat": 4,
  "nbformat_minor": 0,
  "metadata": {
    "colab": {
      "provenance": [],
      "authorship_tag": "ABX9TyM1u5XDMYOuziiTqFmwLhRA",
      "include_colab_link": true
    },
    "kernelspec": {
      "name": "python3",
      "display_name": "Python 3"
    },
    "language_info": {
      "name": "python"
    }
  },
  "cells": [
    {
      "cell_type": "markdown",
      "metadata": {
        "id": "view-in-github",
        "colab_type": "text"
      },
      "source": [
        "<a href=\"https://colab.research.google.com/github/estebanbec/machine_learning/blob/main/Colab_Proyecto.ipynb\" target=\"_parent\"><img src=\"https://colab.research.google.com/assets/colab-badge.svg\" alt=\"Open In Colab\"/></a>"
      ]
    },
    {
      "cell_type": "markdown",
      "source": [
        "# **Importación de datos y primeras observaciones**\n"
      ],
      "metadata": {
        "id": "0CTwhQnrmp0V"
      }
    },
    {
      "cell_type": "code",
      "execution_count": 5,
      "metadata": {
        "id": "508078fe-4bb8-4c68-8c4e-a9296ffc0ce7"
      },
      "outputs": [],
      "source": [
        "import pandas as pd\n",
        "from google.colab import drive\n",
        "import os\n",
        "\n",
        "url = \"https://raw.githubusercontent.com/estebanbec/machine_learning/main/Framingham_dataset.csv\"\n",
        "\n",
        "df_framingham = pd.read_csv(url, sep =\";\")"
      ]
    },
    {
      "cell_type": "code",
      "source": [
        "df_framingham.shape"
      ],
      "metadata": {
        "id": "irt0Z8E0p1Pg",
        "outputId": "9c584f9b-3951-4cfe-9f16-f784efd777d7",
        "colab": {
          "base_uri": "https://localhost:8080/"
        }
      },
      "execution_count": 6,
      "outputs": [
        {
          "output_type": "execute_result",
          "data": {
            "text/plain": [
              "(11627, 26)"
            ]
          },
          "metadata": {},
          "execution_count": 6
        }
      ]
    }
  ]
}